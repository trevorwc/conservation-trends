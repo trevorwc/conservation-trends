{
 "cells": [
  {
   "cell_type": "code",
   "execution_count": 1,
   "metadata": {},
   "outputs": [
    {
     "name": "stdout",
     "output_type": "stream",
     "text": [
      "Index(['title', 'author', 'container-title', 'DOI', 'abstract',\n",
      "       'published-online', 'year', 'month', 'day'],\n",
      "      dtype='object')\n",
      "container-title\n",
      "[Ecology and Evolution]                     11243\n",
      "[Molecular Ecology]                          4996\n",
      "[Frontiers in Ecology and Evolution]         3511\n",
      "[Ecology]                                    3307\n",
      "[Journal of Applied Ecology]                 2573\n",
      "                                            ...  \n",
      "[Hygiene of populated places]                   1\n",
      "[Microbial Cell Factories]                      1\n",
      "[Pharmaceutics]                                 1\n",
      "[Helicobacter]                                  1\n",
      "[Iranian Journal of Veterinary Medicine]        1\n",
      "Name: count, Length: 3694, dtype: int64\n",
      "85 journals with more than 100 articles\n",
      "68065 filtered articles\n",
      "['Ecology and Evolution']\n",
      "['Molecular Ecology']\n",
      "['Frontiers in Ecology and Evolution']\n",
      "['Ecology']\n",
      "['Journal of Applied Ecology']\n",
      "['Functional Ecology']\n",
      "['Journal of Ecology']\n",
      "['Methods in Ecology and Evolution']\n",
      "['Ecology Letters']\n",
      "['Restoration Ecology']\n",
      "['Journal of Animal Ecology']\n",
      "['Molecular Ecology Resources']\n",
      "['Global Ecology and Biogeography']\n",
      "['Ecology, Environment and Conservation']\n",
      "['Journal of Industrial Ecology']\n",
      "['Austral Ecology']\n",
      "['Ekologiya cheloveka (Human Ecology)']\n",
      "['FEMS Microbiology Ecology']\n",
      "['Health and Ecology Issues']\n",
      "['Ecology and Industry of Russia']\n",
      "['Behavioral Ecology']\n",
      "['African Journal of Ecology']\n",
      "['Marine Ecology']\n",
      "['Ecology of Freshwater Fish']\n",
      "['Fisheries Management and Ecology']\n",
      "['Frontiers in Ecology and the Environment']\n",
      "['Ukrainian Journal of Ecology']\n",
      "['BMC Ecology and Evolution']\n",
      "['Journal of Tropical Ecology']\n",
      "['Journal of Plant Ecology']\n",
      "['Environment and Ecology']\n",
      "['Asian Journal of Environment &amp; Ecology']\n",
      "['Landscape Ecology']\n",
      "['Population Ecology']\n",
      "['Russian Journal of Occupational Health and Industrial Ecology']\n",
      "['Remote Sensing in Ecology and Conservation']\n",
      "['South of Russia: ecology, development']\n",
      "['Fire Ecology']\n",
      "['Journal of Agriculture and Ecology Research International']\n",
      "['Movement Ecology']\n",
      "['Behavioral Ecology and Sociobiology']\n",
      "['Microbial Ecology']\n",
      "['Marine Ecology Progress Series']\n",
      "['Problems of Veterinary Sanitation, Hygiene and Ecology']\n",
      "['BULLETIN of the L.N. Gumilyov Eurasian National University. Chemistry. Geography. Ecology Series']\n",
      "['Plant Ecology and Evolution']\n",
      "['Visnyk of V.N. Karazin Kharkiv National University, series Geology. Geography. Ecology']\n",
      "['Journal of Landscape Ecology']\n",
      "['RUDN Journal of Ecology and Life Safety']\n",
      "['POWER ENGINEERING: economics, technique, ecology']\n",
      "['Nature Ecology &amp; Evolution']\n",
      "['Sustainability']\n",
      "['Ecology and Noospherology']\n",
      "['Journal of Pollination Ecology']\n",
      "['Problems of veterinary sanitation, hygiene and ecology']\n",
      "['Journal of Political Ecology']\n",
      "['Scientific Reports']\n",
      "['MOJ Ecology &amp; Environmental Sciences']\n",
      "['Arctic: Ecology and Economy']\n",
      "['Visnyk of V. N. Karazin Kharkiv National University series \"Ecology\"']\n",
      "['PeerJ']\n",
      "['Povolzhskiy Journal of Ecology']\n",
      "['Journal of Global Ecology and Environment']\n",
      "['Journal of Urban Ecology']\n",
      "['Theoretical and Applied Ecology']\n",
      "['Izvestiya of Saratov University. Chemistry. Biology. Ecology']\n",
      "['Journal of Ecology &amp; Natural Resources']\n",
      "['Web Ecology']\n",
      "['Romanian Journal of Ecology &amp; Environmental Chemistry']\n",
      "['IAMURE International Journal of Ecology and Conservation']\n",
      "['Diversity']\n",
      "['Journal of Agriculture and Ecology']\n",
      "['Human Ecology']\n",
      "['Journal of Chemical Ecology']\n",
      "['Proceedings of the NTUU “Igor Sikorsky KPI”. Series: Chemical engineering, ecology and resource saving']\n",
      "['Economics. Ecology. Socium']\n",
      "['Proceedings of the Royal Society B: Biological Sciences']\n",
      "['Water']\n",
      "['ECOLOGY, ENVIRONMENT AND CONSERVATION']\n",
      "['Zoology and Ecology']\n",
      "['Social Economics and Ecology International Journal (SEEIJ)']\n",
      "['Chemistry-Didactics-Ecology-Metrology']\n",
      "['Swamphen: a Journal of Cultural Ecology  (ASLEC-ANZ)']\n",
      "['Remote Sensing']\n",
      "['Research in Ecology']\n"
     ]
    }
   ],
   "source": [
    "import numpy as np\n",
    "import pandas as pd\n",
    "import matplotlib.pyplot as plt\n",
    "import re\n",
    "\n",
    "# look at the number of journals, articles/ journal etc.\n",
    "# filter out journals that are physics / chemistry related \n",
    "cons_articles = pd.read_json('/workspaces/conservation-trends/conservation_full.json')\n",
    "\n",
    "print(cons_articles.columns)\n",
    "\n",
    "counts = cons_articles['container-title'].value_counts()\n",
    "\n",
    "print(counts)\n",
    "\n",
    "popular_journals = counts[counts > 100].index\n",
    "\n",
    "filtered_articles = cons_articles[cons_articles['container-title'].isin(popular_journals)]\n",
    "\n",
    "print(len(popular_journals), \"journals with more than 100 articles\")\n",
    "print(len(filtered_articles), \"filtered articles\")\n",
    "\n",
    "for index in popular_journals:\n",
    "    print(index)"
   ]
  },
  {
   "cell_type": "code",
   "execution_count": 2,
   "metadata": {},
   "outputs": [
    {
     "data": {
      "text/plain": [
       "Text(0, 0.5, 'Frequency')"
      ]
     },
     "execution_count": 2,
     "metadata": {},
     "output_type": "execute_result"
    },
    {
     "data": {
      "image/png": "[encoded data removed]",
      "text/plain": [
       "<Figure size 640x480 with 1 Axes>"
      ]
     },
     "metadata": {},
     "output_type": "display_data"
    }
   ],
   "source": [
    "popular = counts[counts > 100]\n",
    "plt.hist(popular, bins = 50)\n",
    "plt.xlabel('Number of papers per journal')\n",
    "plt.ylabel('Frequency')"
   ]
  },
  {
   "cell_type": "code",
   "execution_count": 3,
   "metadata": {},
   "outputs": [
    {
     "data": {
      "image/png": "[encoded data removed]",
      "text/plain": [
       "<Figure size 640x480 with 1 Axes>"
      ]
     },
     "metadata": {},
     "output_type": "display_data"
    }
   ],
   "source": [
    "year_counts = filtered_articles[\"year\"].value_counts().sort_index()\n",
    "plt.bar(year_counts.index, year_counts.values, align='center', width=0.8) \n",
    "plt.xlabel(\"Year\")\n",
    "plt.ylabel(\"Number of conservation articles\")\n",
    "plt.xticks(year_counts.index)\n",
    "plt.show()"
   ]
  },
  {
   "cell_type": "code",
   "execution_count": 4,
   "metadata": {},
   "outputs": [
    {
     "data": {
      "text/plain": [
       "np.float64(93.0)"
      ]
     },
     "execution_count": 4,
     "metadata": {},
     "output_type": "execute_result"
    }
   ],
   "source": [
    "np.percentile(counts.values, 97.5)\n"
   ]
  },
  {
   "cell_type": "code",
   "execution_count": 5,
   "metadata": {},
   "outputs": [
    {
     "data": {
      "text/plain": [
       "0        <jats:p>In nature, the interaction between pat...\n",
       "1        <jats:p>The spillover of viruses from wildlife...\n",
       "2        <jats:p>Mental epidemics is a new phenomenon o...\n",
       "3        <jats:p>In the article, there have been separa...\n",
       "4        <jats:p>In the article, the features of develo...\n",
       "                               ...                        \n",
       "81952    <jats:title>Abstract</jats:title><jats:p>Amazo...\n",
       "81953    <jats:title>Abstract</jats:title><jats:p>Xenar...\n",
       "81954    <jats:title>Abstract</jats:title><jats:sec><ja...\n",
       "81955    <jats:title>Abstract</jats:title><jats:p>Mamma...\n",
       "81956    <jats:title>Abstract</jats:title><jats:p>Biolo...\n",
       "Name: abstract, Length: 68065, dtype: object"
      ]
     },
     "execution_count": 5,
     "metadata": {},
     "output_type": "execute_result"
    }
   ],
   "source": [
    "filtered_articles['abstract']"
   ]
  },
  {
   "cell_type": "code",
   "execution_count": 7,
   "metadata": {},
   "outputs": [
    {
     "name": "stderr",
     "output_type": "stream",
     "text": [
      "/tmp/ipykernel_21858/252795300.py:6: SettingWithCopyWarning: \n",
      "A value is trying to be set on a copy of a slice from a DataFrame.\n",
      "Try using .loc[row_indexer,col_indexer] = value instead\n",
      "\n",
      "See the caveats in the documentation: https://pandas.pydata.org/pandas-docs/stable/user_guide/indexing.html#returning-a-view-versus-a-copy\n",
      "  filtered_articles['abstract'] = filtered_articles['abstract'].apply(remove_tags)\n"
     ]
    },
    {
     "data": {
      "text/plain": [
       "0        In nature, the interaction between pathogens a...\n",
       "1        The spillover of viruses from wildlife into ag...\n",
       "2        Mental epidemics is a new phenomenon of integr...\n",
       "3        In the article, there have been separated fact...\n",
       "4        In the article, the features of development of...\n",
       "                               ...                        \n",
       "81952    Amazonia’s floodplain system is the largest an...\n",
       "81953    Xenarthrans—anteaters, sloths, and armadillos—...\n",
       "81954    MotivationThe BioTIME database contains raw da...\n",
       "81955    Mammalian carnivores are considered a key grou...\n",
       "81956    Biological invasion is one of the main threats...\n",
       "Name: abstract, Length: 68065, dtype: object"
      ]
     },
     "execution_count": 7,
     "metadata": {},
     "output_type": "execute_result"
    }
   ],
   "source": [
    "def remove_tags(text):\n",
    "    cleaned_text = re.sub(r\">Abstract<\", \"><\", text, flags=re.IGNORECASE).strip()\n",
    "    cleaned_text = re.sub(r\"<[^>]*>\", \"\", cleaned_text)\n",
    "    return cleaned_text\n",
    "\n",
    "filtered_articles['abstract'] = filtered_articles['abstract'].apply(remove_tags)\n",
    "filtered_articles['abstract']"
   ]
  },
  {
   "cell_type": "code",
   "execution_count": 8,
   "metadata": {},
   "outputs": [],
   "source": [
    "filtered_articles.to_json('/workspaces/conservation-trends/conservation_filtered.json', orient='records', indent=4)"
   ]
  }
 ],
 "metadata": {
  "kernelspec": {
   "display_name": "Python 3",
   "language": "python",
   "name": "python3"
  },
  "language_info": {
   "codemirror_mode": {
    "name": "ipython",
    "version": 3
   },
   "file_extension": ".py",
   "mimetype": "text/x-python",
   "name": "python",
   "nbconvert_exporter": "python",
   "pygments_lexer": "ipython3",
   "version": "3.12.1"
  }
 },
 "nbformat": 4,
 "nbformat_minor": 2
}
